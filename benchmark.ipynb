{
 "cells": [
  {
   "cell_type": "code",
   "execution_count": 51,
   "id": "ed67b10b-99c0-4a1c-bf17-f95c07fecd8d",
   "metadata": {},
   "outputs": [],
   "source": [
    "from selenium import webdriver\n",
    "from selenium.webdriver.common.by import By\n",
    "from selenium.webdriver.common.action_chains import ActionChains\n",
    "from selenium.webdriver.common.keys import Keys\n",
    "import pandas as pd\n",
    "from tqdm import tqdm"
   ]
  },
  {
   "cell_type": "code",
   "execution_count": 2,
   "id": "ed4b428c",
   "metadata": {},
   "outputs": [],
   "source": [
    "chemin_paradonnees = r\"C:\\Users\\SHZ42C\\Documents\\RTI\\autocompletion\\EEC_hackathon.csv\""
   ]
  },
  {
   "cell_type": "code",
   "execution_count": 7,
   "id": "293f3e33",
   "metadata": {},
   "outputs": [],
   "source": [
    "import time"
   ]
  },
  {
   "cell_type": "code",
   "execution_count": 17,
   "id": "0d658936",
   "metadata": {},
   "outputs": [],
   "source": [
    "driver = webdriver.Firefox()"
   ]
  },
  {
   "cell_type": "code",
   "execution_count": 18,
   "id": "311df0ae",
   "metadata": {},
   "outputs": [],
   "source": [
    "driver.get(\"https://stromae-90-01z.dev.insee.io/questionnaire/90-01z/unite-enquetee/11\")"
   ]
  },
  {
   "cell_type": "code",
   "execution_count": 19,
   "id": "82ebb35e-cc26-47d0-bafb-6958f9da88cc",
   "metadata": {},
   "outputs": [],
   "source": [
    "driver.find_element(By.CSS_SELECTOR, \".undefined:nth-child(2) > .MuiButton-label\").click()\n",
    "driver.find_element(By.CSS_SELECTOR, \".MuiButton-label\").click()\n",
    "element = driver.find_element(By.CSS_SELECTOR, \"#next-button > .MuiButton-label\")\n",
    "actions = ActionChains(driver)\n",
    "actions.move_to_element(element).perform()\n",
    "driver.find_element(By.CSS_SELECTOR, \"#next-button > .MuiButton-label\").click()\n",
    "driver.find_element(By.CSS_SELECTOR, \"#next-button > .MuiButton-label\").click()\n"
   ]
  },
  {
   "cell_type": "code",
   "execution_count": 16,
   "id": "b0b582c6",
   "metadata": {},
   "outputs": [],
   "source": [
    "driver.quit()"
   ]
  },
  {
   "cell_type": "code",
   "execution_count": 45,
   "id": "2a661e52",
   "metadata": {},
   "outputs": [],
   "source": [
    "def interroger_stromae(driver, libelle : str) -> list[str]:\n",
    "    driver.find_element(By.ID, \"l5smshnt-input\").clear()\n",
    "    driver.find_element(By.ID, \"l5smshnt-input\").send_keys(libelle)\n",
    "    time.sleep(1)\n",
    "    element_liste = driver.find_element(By.ID, \"l5smshnt-list\")\n",
    "    return [x.text for x in element_liste.find_elements(By.CLASS_NAME, 'label') ]"
   ]
  },
  {
   "cell_type": "code",
   "execution_count": 32,
   "id": "70e47893",
   "metadata": {},
   "outputs": [
    {
     "data": {
      "text/plain": [
       "[\"Professeur de lycée d'enseignement professionnel (LEP)\",\n",
       " \"Aide familial (d'une profession libérale)\",\n",
       " 'Basketteur professionnel',\n",
       " 'Bouliste professionnel',\n",
       " 'Boxeur professionnel',\n",
       " 'Chargé de prévention des risques professionnels',\n",
       " 'Chasseur (professionnel)',\n",
       " 'Conseiller en évolution professionnelle',\n",
       " 'Conseiller en insertion professionnelle',\n",
       " 'Cycliste professionnel',\n",
       " 'Footballeur professionnel',\n",
       " 'Handballeur professionnel',\n",
       " 'Head of professional services',\n",
       " 'Hockeyeur professionnel',\n",
       " 'Jockey professionnel',\n",
       " 'Lutteur professionnel',\n",
       " 'Néviplanchiste professionnel',\n",
       " 'Planchiste professionnel',\n",
       " 'Préventionniste en risques professionnels',\n",
       " 'Professeur à domicile',\n",
       " 'Professeur agrégé dans le supérieur (PRAG)',\n",
       " 'Professeur auxiliaire',\n",
       " 'Professeur certifié dans le supérieur (PRCE)',\n",
       " \"Professeur d'art dramatique\",\n",
       " \"Professeur d'éducation artistique ou musicale\",\n",
       " \"Professeur d'éducation physique et sportive (EPS)\",\n",
       " \"Professeur d'enseignement général de collège (pegc)\",\n",
       " \"Professeur d'enseignement supérieur\",\n",
       " \"Professeur d'université\",\n",
       " 'Professeur de centre de formation pour apprentis (CFA)']"
      ]
     },
     "execution_count": 32,
     "metadata": {},
     "output_type": "execute_result"
    }
   ],
   "source": [
    "interroger_stromae(driver,\"prof\")"
   ]
  },
  {
   "cell_type": "code",
   "execution_count": 33,
   "id": "59460e21-d8be-4ca8-bb2f-85150a8fd2b4",
   "metadata": {},
   "outputs": [],
   "source": [
    "def tester_presence_stromae(libelles_retournes: list[str], libelle_expected: str):\n",
    "    return libelle_expected in libelles_retournes"
   ]
  },
  {
   "cell_type": "code",
   "execution_count": 48,
   "id": "1e511ef9",
   "metadata": {},
   "outputs": [],
   "source": [
    "data = pd.read_csv(chemin_paradonnees,dtype=str)\n",
    "data = data[[\"PCLCA\",\"PCLCALIBELLEMAX\",\"SEXE\"]]\n",
    "data = data.loc[~data[\"PCLCA\"].isna(),]\n",
    "data = data.loc[data[\"PCLCA\"]!=\"999\",]\n",
    "data = data.loc[data[\"SEXE\"]==\"1\"]"
   ]
  },
  {
   "cell_type": "code",
   "execution_count": 49,
   "id": "b7245e6e",
   "metadata": {},
   "outputs": [],
   "source": [
    "data = data.head(100)"
   ]
  },
  {
   "cell_type": "code",
   "execution_count": 50,
   "id": "a01d08a7",
   "metadata": {},
   "outputs": [
    {
     "data": {
      "text/html": [
       "<div>\n",
       "<style scoped>\n",
       "    .dataframe tbody tr th:only-of-type {\n",
       "        vertical-align: middle;\n",
       "    }\n",
       "\n",
       "    .dataframe tbody tr th {\n",
       "        vertical-align: top;\n",
       "    }\n",
       "\n",
       "    .dataframe thead th {\n",
       "        text-align: right;\n",
       "    }\n",
       "</style>\n",
       "<table border=\"1\" class=\"dataframe\">\n",
       "  <thead>\n",
       "    <tr style=\"text-align: right;\">\n",
       "      <th></th>\n",
       "      <th>PCLCA</th>\n",
       "      <th>PCLCALIBELLEMAX</th>\n",
       "      <th>SEXE</th>\n",
       "    </tr>\n",
       "  </thead>\n",
       "  <tbody>\n",
       "    <tr>\n",
       "      <th>3</th>\n",
       "      <td>Dessinateur projeteur industriel</td>\n",
       "      <td>Dessinateur in</td>\n",
       "      <td>1</td>\n",
       "    </tr>\n",
       "    <tr>\n",
       "      <th>4</th>\n",
       "      <td>Contrôleur qualité de l'industrie</td>\n",
       "      <td>contrôleur qualité</td>\n",
       "      <td>1</td>\n",
       "    </tr>\n",
       "    <tr>\n",
       "      <th>5</th>\n",
       "      <td>Technicien d'assistance en informatique</td>\n",
       "      <td>tech</td>\n",
       "      <td>1</td>\n",
       "    </tr>\n",
       "    <tr>\n",
       "      <th>13</th>\n",
       "      <td>Vendeur d'articles de sport</td>\n",
       "      <td>VENDEUR</td>\n",
       "      <td>1</td>\n",
       "    </tr>\n",
       "    <tr>\n",
       "      <th>22</th>\n",
       "      <td>Apprenti maçon</td>\n",
       "      <td>apprenti macon</td>\n",
       "      <td>1</td>\n",
       "    </tr>\n",
       "    <tr>\n",
       "      <th>...</th>\n",
       "      <td>...</td>\n",
       "      <td>...</td>\n",
       "      <td>...</td>\n",
       "    </tr>\n",
       "    <tr>\n",
       "      <th>489</th>\n",
       "      <td>Agent de gestion des collectivités territoriales</td>\n",
       "      <td>AGENT TERRITORIALES</td>\n",
       "      <td>1</td>\n",
       "    </tr>\n",
       "    <tr>\n",
       "      <th>518</th>\n",
       "      <td>Chauffeur de bus, de car</td>\n",
       "      <td>chauffeur</td>\n",
       "      <td>1</td>\n",
       "    </tr>\n",
       "    <tr>\n",
       "      <th>523</th>\n",
       "      <td>Ingénieur qualité</td>\n",
       "      <td>ingénieur qualité</td>\n",
       "      <td>1</td>\n",
       "    </tr>\n",
       "    <tr>\n",
       "      <th>532</th>\n",
       "      <td>Responsable des services techniques</td>\n",
       "      <td>RESPONSABLE T</td>\n",
       "      <td>1</td>\n",
       "    </tr>\n",
       "    <tr>\n",
       "      <th>536</th>\n",
       "      <td>Enseignant certifié en lycée (CAPES, CAPET)</td>\n",
       "      <td>enseignant</td>\n",
       "      <td>1</td>\n",
       "    </tr>\n",
       "  </tbody>\n",
       "</table>\n",
       "<p>100 rows × 3 columns</p>\n",
       "</div>"
      ],
      "text/plain": [
       "                                                PCLCA      PCLCALIBELLEMAX  \\\n",
       "3                    Dessinateur projeteur industriel       Dessinateur in   \n",
       "4                   Contrôleur qualité de l'industrie   contrôleur qualité   \n",
       "5             Technicien d'assistance en informatique                 tech   \n",
       "13                        Vendeur d'articles de sport              VENDEUR   \n",
       "22                                     Apprenti maçon       apprenti macon   \n",
       "..                                                ...                  ...   \n",
       "489  Agent de gestion des collectivités territoriales  AGENT TERRITORIALES   \n",
       "518                          Chauffeur de bus, de car            chauffeur   \n",
       "523                                 Ingénieur qualité    ingénieur qualité   \n",
       "532               Responsable des services techniques        RESPONSABLE T   \n",
       "536       Enseignant certifié en lycée (CAPES, CAPET)           enseignant   \n",
       "\n",
       "    SEXE  \n",
       "3      1  \n",
       "4      1  \n",
       "5      1  \n",
       "13     1  \n",
       "22     1  \n",
       "..   ...  \n",
       "489    1  \n",
       "518    1  \n",
       "523    1  \n",
       "532    1  \n",
       "536    1  \n",
       "\n",
       "[100 rows x 3 columns]"
      ]
     },
     "execution_count": 50,
     "metadata": {},
     "output_type": "execute_result"
    }
   ],
   "source": [
    "data"
   ]
  },
  {
   "cell_type": "code",
   "execution_count": 52,
   "id": "b9cd9dae",
   "metadata": {},
   "outputs": [],
   "source": [
    "def benchmark_stromae(data, driver):\n",
    "    presence_stromae_list = []\n",
    "    for i in tqdm(data.index):\n",
    "        prof_sel = data.at[i,\"PCLCA\"]\n",
    "        prof_input = data.at[i,\"PCLCALIBELLEMAX\"]\n",
    "        propositions = interroger_stromae(driver=driver,libelle=prof_input)\n",
    "        presence_stromae_list.append(tester_presence_stromae(libelle_expected=prof_sel,libelles_retournes=propositions))\n",
    "    data.insert(loc=0,column=\"I_PRESENCE_STROMAE\",value=presence_stromae_list)    "
   ]
  },
  {
   "cell_type": "code",
   "execution_count": 53,
   "id": "95fb6090",
   "metadata": {},
   "outputs": [
    {
     "name": "stderr",
     "output_type": "stream",
     "text": [
      "100%|██████████| 100/100 [02:08<00:00,  1.29s/it]\n"
     ]
    }
   ],
   "source": [
    "benchmark_stromae(data, driver)"
   ]
  },
  {
   "cell_type": "code",
   "execution_count": 54,
   "id": "a08f4f67",
   "metadata": {},
   "outputs": [
    {
     "data": {
      "text/html": [
       "<div>\n",
       "<style scoped>\n",
       "    .dataframe tbody tr th:only-of-type {\n",
       "        vertical-align: middle;\n",
       "    }\n",
       "\n",
       "    .dataframe tbody tr th {\n",
       "        vertical-align: top;\n",
       "    }\n",
       "\n",
       "    .dataframe thead th {\n",
       "        text-align: right;\n",
       "    }\n",
       "</style>\n",
       "<table border=\"1\" class=\"dataframe\">\n",
       "  <thead>\n",
       "    <tr style=\"text-align: right;\">\n",
       "      <th></th>\n",
       "      <th>I_PRESENCE_STROMAE</th>\n",
       "      <th>PCLCA</th>\n",
       "      <th>PCLCALIBELLEMAX</th>\n",
       "      <th>SEXE</th>\n",
       "    </tr>\n",
       "  </thead>\n",
       "  <tbody>\n",
       "    <tr>\n",
       "      <th>3</th>\n",
       "      <td>False</td>\n",
       "      <td>Dessinateur projeteur industriel</td>\n",
       "      <td>Dessinateur in</td>\n",
       "      <td>1</td>\n",
       "    </tr>\n",
       "    <tr>\n",
       "      <th>4</th>\n",
       "      <td>False</td>\n",
       "      <td>Contrôleur qualité de l'industrie</td>\n",
       "      <td>contrôleur qualité</td>\n",
       "      <td>1</td>\n",
       "    </tr>\n",
       "    <tr>\n",
       "      <th>5</th>\n",
       "      <td>False</td>\n",
       "      <td>Technicien d'assistance en informatique</td>\n",
       "      <td>tech</td>\n",
       "      <td>1</td>\n",
       "    </tr>\n",
       "    <tr>\n",
       "      <th>13</th>\n",
       "      <td>False</td>\n",
       "      <td>Vendeur d'articles de sport</td>\n",
       "      <td>VENDEUR</td>\n",
       "      <td>1</td>\n",
       "    </tr>\n",
       "    <tr>\n",
       "      <th>22</th>\n",
       "      <td>True</td>\n",
       "      <td>Apprenti maçon</td>\n",
       "      <td>apprenti macon</td>\n",
       "      <td>1</td>\n",
       "    </tr>\n",
       "    <tr>\n",
       "      <th>...</th>\n",
       "      <td>...</td>\n",
       "      <td>...</td>\n",
       "      <td>...</td>\n",
       "      <td>...</td>\n",
       "    </tr>\n",
       "    <tr>\n",
       "      <th>489</th>\n",
       "      <td>False</td>\n",
       "      <td>Agent de gestion des collectivités territoriales</td>\n",
       "      <td>AGENT TERRITORIALES</td>\n",
       "      <td>1</td>\n",
       "    </tr>\n",
       "    <tr>\n",
       "      <th>518</th>\n",
       "      <td>False</td>\n",
       "      <td>Chauffeur de bus, de car</td>\n",
       "      <td>chauffeur</td>\n",
       "      <td>1</td>\n",
       "    </tr>\n",
       "    <tr>\n",
       "      <th>523</th>\n",
       "      <td>True</td>\n",
       "      <td>Ingénieur qualité</td>\n",
       "      <td>ingénieur qualité</td>\n",
       "      <td>1</td>\n",
       "    </tr>\n",
       "    <tr>\n",
       "      <th>532</th>\n",
       "      <td>False</td>\n",
       "      <td>Responsable des services techniques</td>\n",
       "      <td>RESPONSABLE T</td>\n",
       "      <td>1</td>\n",
       "    </tr>\n",
       "    <tr>\n",
       "      <th>536</th>\n",
       "      <td>False</td>\n",
       "      <td>Enseignant certifié en lycée (CAPES, CAPET)</td>\n",
       "      <td>enseignant</td>\n",
       "      <td>1</td>\n",
       "    </tr>\n",
       "  </tbody>\n",
       "</table>\n",
       "<p>100 rows × 4 columns</p>\n",
       "</div>"
      ],
      "text/plain": [
       "     I_PRESENCE_STROMAE                                             PCLCA  \\\n",
       "3                 False                  Dessinateur projeteur industriel   \n",
       "4                 False                 Contrôleur qualité de l'industrie   \n",
       "5                 False           Technicien d'assistance en informatique   \n",
       "13                False                       Vendeur d'articles de sport   \n",
       "22                 True                                    Apprenti maçon   \n",
       "..                  ...                                               ...   \n",
       "489               False  Agent de gestion des collectivités territoriales   \n",
       "518               False                          Chauffeur de bus, de car   \n",
       "523                True                                 Ingénieur qualité   \n",
       "532               False               Responsable des services techniques   \n",
       "536               False       Enseignant certifié en lycée (CAPES, CAPET)   \n",
       "\n",
       "         PCLCALIBELLEMAX SEXE  \n",
       "3         Dessinateur in    1  \n",
       "4     contrôleur qualité    1  \n",
       "5                   tech    1  \n",
       "13               VENDEUR    1  \n",
       "22        apprenti macon    1  \n",
       "..                   ...  ...  \n",
       "489  AGENT TERRITORIALES    1  \n",
       "518            chauffeur    1  \n",
       "523    ingénieur qualité    1  \n",
       "532        RESPONSABLE T    1  \n",
       "536           enseignant    1  \n",
       "\n",
       "[100 rows x 4 columns]"
      ]
     },
     "execution_count": 54,
     "metadata": {},
     "output_type": "execute_result"
    }
   ],
   "source": [
    "data"
   ]
  },
  {
   "cell_type": "code",
   "execution_count": 55,
   "id": "28aecfaf-3f42-4d04-a0ea-45fd6ec1bc51",
   "metadata": {},
   "outputs": [
    {
     "data": {
      "text/plain": [
       "32"
      ]
     },
     "execution_count": 55,
     "metadata": {},
     "output_type": "execute_result"
    }
   ],
   "source": [
    "sum(data.I_PRESENCE_STROMAE)"
   ]
  }
 ],
 "metadata": {
  "kernelspec": {
   "display_name": "Python 3.9.7 64-bit",
   "language": "python",
   "name": "python3"
  },
  "language_info": {
   "codemirror_mode": {
    "name": "ipython",
    "version": 3
   },
   "file_extension": ".py",
   "mimetype": "text/x-python",
   "name": "python",
   "nbconvert_exporter": "python",
   "pygments_lexer": "ipython3",
   "version": "3.9.7"
  },
  "vscode": {
   "interpreter": {
    "hash": "1cad50976f873231b9784594a729742f7049135540bc47408e71d8d045fa7942"
   }
  }
 },
 "nbformat": 4,
 "nbformat_minor": 5
}
